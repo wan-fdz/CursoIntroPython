{
 "cells": [
  {
   "cell_type": "markdown",
   "metadata": {},
   "source": [
    "### Ejercicio 1: Trabajar con argumentos en funciones"
   ]
  },
  {
   "cell_type": "code",
   "execution_count": 4,
   "metadata": {},
   "outputs": [],
   "source": [
    "def report(main_tank, external_tank, hydrogen_tank):\n",
    "    total_average = (main_tank + external_tank + hydrogen_tank) / 3\n",
    "    print(\"Fuel Report: \\n Total average: \" + str(total_average) + \"% \\n Main tank: \" + str(main_tank) + \"% \\n External tank: \" + \n",
    "    str(external_tank) + \"% \\n Hydrogen tank: \" + str(hydrogen_tank) + \"%\")\n"
   ]
  },
  {
   "cell_type": "code",
   "execution_count": 5,
   "metadata": {},
   "outputs": [
    {
     "name": "stdout",
     "output_type": "stream",
     "text": [
      "Fuel Report: \n",
      " Total average: 78.33333333333333% \n",
      " Main tank: 80% \n",
      " External tank: 70% \n",
      " Hydrogen tank: 85%\n"
     ]
    }
   ],
   "source": [
    "report(80, 70, 85)"
   ]
  },
  {
   "cell_type": "code",
   "execution_count": 6,
   "metadata": {},
   "outputs": [
    {
     "data": {
      "text/plain": [
       "82.0"
      ]
     },
     "execution_count": 6,
     "metadata": {},
     "output_type": "execute_result"
    }
   ],
   "source": [
    "def average(values):\n",
    "    total_sum = sum(values)\n",
    "    number_of_values = len(values)\n",
    "    return total_sum / number_of_values\n",
    "\n",
    "average([80, 85, 81])"
   ]
  },
  {
   "cell_type": "code",
   "execution_count": 7,
   "metadata": {},
   "outputs": [
    {
     "name": "stdout",
     "output_type": "stream",
     "text": [
      "Fuel Report: \n",
      " Total average: 78.0% \n",
      " Main tank: 88% \n",
      " External tank: 76% \n",
      " Hydrogen tank: 70%\n"
     ]
    }
   ],
   "source": [
    "def report(main_tank, external_tank, hydrogen_tank):\n",
    "    print(\"Fuel Report: \\n Total average: \" + str(average([main_tank, external_tank, hydrogen_tank])) + \"% \\n Main tank: \" + str(main_tank) + \"% \\n External tank: \" + \n",
    "    str(external_tank) + \"% \\n Hydrogen tank: \" + str(hydrogen_tank) + \"%\")\n",
    "\n",
    "report(88, 76, 70)"
   ]
  },
  {
   "cell_type": "markdown",
   "metadata": {},
   "source": [
    "### Ejercicio 2: Trabajo con argumentos de palabra clave"
   ]
  },
  {
   "cell_type": "code",
   "execution_count": 10,
   "metadata": {},
   "outputs": [
    {
     "name": "stdout",
     "output_type": "stream",
     "text": [
      "Mission to Moon\n",
      "Total travel time: 65 minutes \n",
      "Total fuel left: 500000 gallons\n"
     ]
    }
   ],
   "source": [
    "# Función con un informe preciso de la misión. Considera hora de prelanzamiento, tiempo de vuelo, destino, tanque externo y tanque interno\n",
    "def mission_report(pre_launch_time, flight_time, destination, external_tank, main_tank):\n",
    "    print(\"Mission to \" + destination + \"\\n\" + \"Total travel time: \" + str(pre_launch_time + flight_time) + \" minutes \\n\" \n",
    "    + \"Total fuel left: \" + str(external_tank + main_tank) + \" gallons\")\n",
    "mission_report(14, 51, \"Moon\", 200000, 300000)"
   ]
  },
  {
   "cell_type": "code",
   "execution_count": 11,
   "metadata": {},
   "outputs": [
    {
     "name": "stdout",
     "output_type": "stream",
     "text": [
      "Mission to Moon\n",
      "Total travel time: 76 minutes \n",
      "Total fuel left: 500000 gallons\n"
     ]
    }
   ],
   "source": [
    "def mission_report(destination, *minutes, **fuel_reservoirs):\n",
    "    print(\"Mission to \" + destination + \"\\n\" + \"Total travel time: \" + str(sum(minutes)) + \" minutes \\n\" \n",
    "    + \"Total fuel left: \" + str(sum(fuel_reservoirs.values())) + \" gallons\")\n",
    "    \n",
    "mission_report(\"Moon\", 10, 15, 51, main=300000, external=200000)"
   ]
  },
  {
   "cell_type": "code",
   "execution_count": 16,
   "metadata": {},
   "outputs": [
    {
     "name": "stdout",
     "output_type": "stream",
     "text": [
      "Mission to Moon\n",
      "Total travel time: 74 minutes \n",
      "Total fuel left: 500000 gallons\n",
      "main tank --> 300000 gallons left\n",
      "external tank --> 200000 gallons left\n"
     ]
    }
   ],
   "source": [
    "def mission_report(destination, *minutes, **fuel_reservoirs):\n",
    "    print(\"Mission to \" + destination + \"\\n\" + \"Total travel time: \" + str(sum(minutes)) + \" minutes \\n\" \n",
    "    + \"Total fuel left: \" + str(sum(fuel_reservoirs.values())) + \" gallons\")\n",
    "    for tank_name, gallons in fuel_reservoirs.items():\n",
    "        print(tank_name + \" tank --> \" + str(gallons) + \" gallons left\")\n",
    "    \n",
    "mission_report(\"Moon\", 8, 11, 55, main=300000, external=200000)"
   ]
  }
 ],
 "metadata": {
  "interpreter": {
   "hash": "916dbcbb3f70747c44a77c7bcd40155683ae19c65e1c03b4aa3499c5328201f1"
  },
  "kernelspec": {
   "display_name": "Python 3.8.10 64-bit",
   "language": "python",
   "name": "python3"
  },
  "language_info": {
   "codemirror_mode": {
    "name": "ipython",
    "version": 3
   },
   "file_extension": ".py",
   "mimetype": "text/x-python",
   "name": "python",
   "nbconvert_exporter": "python",
   "pygments_lexer": "ipython3",
   "version": "3.8.10"
  },
  "orig_nbformat": 4
 },
 "nbformat": 4,
 "nbformat_minor": 2
}
