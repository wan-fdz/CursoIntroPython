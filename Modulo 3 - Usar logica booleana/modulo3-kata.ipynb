{
 "cells": [
  {
   "cell_type": "markdown",
   "metadata": {},
   "source": [
    "### Problema 1"
   ]
  },
  {
   "cell_type": "code",
   "execution_count": 1,
   "metadata": {},
   "outputs": [
    {
     "name": "stdout",
     "output_type": "stream",
     "text": [
      "¡Alerta! ¡Un asteroide se acerca a la tierra!\n"
     ]
    }
   ],
   "source": [
    "# Añadir el código necesario para crear una variable que guarde la velocidad del asteroide.\n",
    "# Escribe una expresión de prueba para calcular si necesita una advertencia.\n",
    "# Agregue las instrucciones que se ejecutarán si la expresión de prueba es true o false.\n",
    "asteroide_velocidad = 49\n",
    "if asteroide_velocidad > 25:\n",
    "    print(\"¡Alerta! ¡Un asteroide se acerca a la tierra!\")\n",
    "else:\n",
    "    print(\"Todo normal, nada de que preocuparse.\")"
   ]
  },
  {
   "cell_type": "markdown",
   "metadata": {},
   "source": [
    "### Problema 2"
   ]
  },
  {
   "cell_type": "code",
   "execution_count": 2,
   "metadata": {},
   "outputs": [
    {
     "name": "stdout",
     "output_type": "stream",
     "text": [
      "Todo normal, nada de que preocuparse\n"
     ]
    }
   ],
   "source": [
    "# Agrega el código para crear una variable para un asteroide que viaja a 19 km/s\n",
    "# Escribe varias expresiones de prueba para determinar si puedes ver el rayo de luz desde la tierra\n",
    "# Agrega las instrucciones que se ejecutarán si las expresiones de prueba son True o False\n",
    "asteroide = 19\n",
    "if asteroide > 20:\n",
    "    print(\"Mira arriba! Hay un rayo de luz en el cielo!\")\n",
    "elif asteroide == 20:\n",
    "    print(\"Mira arriba! Hay un rayo de luz en el cielo!\")\n",
    "else:\n",
    "    print(\"Todo normal, nada de que preocuparse\")"
   ]
  },
  {
   "cell_type": "markdown",
   "metadata": {},
   "source": [
    "### Problema 3"
   ]
  },
  {
   "cell_type": "code",
   "execution_count": 5,
   "metadata": {},
   "outputs": [
    {
     "name": "stdout",
     "output_type": "stream",
     "text": [
      "Mira arriba! Hay un rayo de luz en el cielo!\n"
     ]
    }
   ],
   "source": [
    "asteroide_velocidad = 25\n",
    "asteroide_tamano = 63\n",
    "if asteroide_velocidad > 25 and asteroide_tamano > 25:\n",
    "    print(\"Alerta! Un asteroide se dirige a la tierra!\")\n",
    "elif asteroide_velocidad >= 20:\n",
    "    print(\"Mira arriba! Hay un rayo de luz en el cielo!\")\n",
    "elif asteroide_tamano < 25:\n",
    "    print(\"Todo normal, nada de que preocuparse\")\n",
    "else:\n",
    "    print(\"Todo normal, nada de que preocuparse\")\n"
   ]
  }
 ],
 "metadata": {
  "interpreter": {
   "hash": "916dbcbb3f70747c44a77c7bcd40155683ae19c65e1c03b4aa3499c5328201f1"
  },
  "kernelspec": {
   "display_name": "Python 3.8.10 64-bit",
   "language": "python",
   "name": "python3"
  },
  "language_info": {
   "codemirror_mode": {
    "name": "ipython",
    "version": 3
   },
   "file_extension": ".py",
   "mimetype": "text/x-python",
   "name": "python",
   "nbconvert_exporter": "python",
   "pygments_lexer": "ipython3",
   "version": "3.8.10"
  },
  "orig_nbformat": 4
 },
 "nbformat": 4,
 "nbformat_minor": 2
}
